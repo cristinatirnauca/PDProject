{
 "cells": [
  {
   "cell_type": "code",
   "execution_count": 1,
   "metadata": {},
   "outputs": [],
   "source": [
    "import warnings\n",
    "warnings.filterwarnings('ignore')\n",
    "from sklearn import preprocessing, svm, tree\n",
    "from sklearn.ensemble import RandomForestClassifier\n",
    "from sklearn.neighbors import KNeighborsClassifier\n",
    "from sklearn.neural_network import MLPClassifier\n",
    "from sklearn.linear_model import LogisticRegression\n",
    "from matplotlib import pyplot as plt\n",
    "import pandas as pd\n",
    "import numpy as np\n",
    "import re\n",
    "from skfeature.function.similarity_based import fisher_score\n",
    "\n",
    "font = {'family' : 'serif',  # \t[ 'serif' | 'sans-serif' | 'cursive' | 'fantasy' | 'monospace' ]\n",
    "        'weight' : 'normal',\n",
    "        'size'   : 12}\n",
    "\n",
    "plt.rc('font', **font)\n",
    "\n",
    "formaT = [\"png\",\"svg\"]"
   ]
  },
  {
   "cell_type": "code",
   "execution_count": 2,
   "metadata": {
    "colab": {},
    "colab_type": "code",
    "id": "xQ4QYP87XhYc"
   },
   "outputs": [],
   "source": [
    "def amplifyIndex(train_index,test_index,users,table):\n",
    "    train_index_users = np.array(users)[train_index]\n",
    "    test_index_users = np.array(users)[test_index]\n",
    "    train_index, test_index = [], []\n",
    "    for user in train_index_users:\n",
    "        train_index += table.index[table['Patient'] == user].tolist()\n",
    "    for user in test_index_users:\n",
    "        test_index += table.index[table['Patient'] == user].tolist()\n",
    "    return train_index,test_index\n",
    "\n",
    "def getError(model,train_x, train_y,test_x, test_y,reg = False):\n",
    "    if model == \"SVM\":\n",
    "        clf = svm.SVC(C=0.01, kernel='linear',probability = True) if reg else svm.SVC(C=1,kernel = \"linear\",probability=True) \n",
    "    elif model == \"LR\":\n",
    "        clf = LogisticRegression(C=0.1, penalty='l1', solver='liblinear') if reg else LogisticRegression(C=1)\n",
    "    elif model == \"NN\":\n",
    "        clf = MLPClassifier(alpha=10) if reg else MLPClassifier()\n",
    "    elif model == \"kNN\":\n",
    "        clf = KNeighborsClassifier(n_neighbors=1)\n",
    "    elif model == \"DT\":\n",
    "        clf = tree.DecisionTreeClassifier()\n",
    "    elif model == \"RF\":\n",
    "        clf = RandomForestClassifier()\n",
    "    clf = clf.fit(train_x, train_y)   \n",
    "    train_error = 1 - clf.score(train_x, train_y)\n",
    "    test_error = 1 - clf.score(test_x, test_y)\n",
    "    return train_error,test_error,clf.predict(test_x),clf.predict_proba(test_x)\n",
    "\n",
    "def errors(models,data,labels,indexes,reg = False):\n",
    "    err = []\n",
    "    for train,test in indexes:\n",
    "        aux = []\n",
    "        for model in models:\n",
    "            train_error,test_error,_,_ = getError(model,data[train], labels[train], data[test], labels[test],reg)\n",
    "            aux += [train_error,test_error]\n",
    "        err.append(aux)\n",
    "    return np.array(err)\n",
    "\n",
    "def readTrainSets(filename):\n",
    "    train_sets = []\n",
    "    for line in open(filename):\n",
    "        new = line.strip()\n",
    "        train_sets.append([int(elem) for elem in new[new.find(\"=\")+2:-1].split(\",\")])\n",
    "    return tuple(train_sets)\n",
    "\n",
    "def dataFromTable(table):\n",
    "    # Eliminate Age and Turning time\n",
    "    data = np.array(table.iloc[:,3:-1])\n",
    "    labels = np.array(table.iloc[:,-1])\n",
    "    labels = np.array([types[lab] for lab in labels])\n",
    "    # scaling data\n",
    "    scaler = preprocessing.StandardScaler()\n",
    "    scaler.fit(data)\n",
    "    return scaler.transform(data),labels\n",
    "\n",
    "types = {\"EPI\":1,\"EPG2019S\":1,\"CONTROLES\":0,\"AsG2019S-\":0} "
   ]
  },
  {
   "cell_type": "markdown",
   "metadata": {},
   "source": [
    "<h1>Parkinson vs controls </h1>\n",
    "<p>class 1: EPI + EPG2019S</p>\n",
    "<p>class 0: CONTROLES + AsG2019S-</p>   \n",
    "<p>We work with the following data:\n",
    "<ul>\n",
    "    <li> Data_v7.csv: 41 PD + 36 Controls, 130 columns: Patient, Age, Turning Time (avg between exp 1 and exp 3), 42 indicators x 3 experiments, Label (130 = 4 + 42*3). Except for Patient, Age and Label we used all variables in \n",
    "<a href=\"https://www.sciencedirect.com/science/article/pii/S1353802022000955\">Parkinsonism & Related Disorders</a>\n",
    "    <li> Data_v8.csv (only the first slice): 41 PD + 36 Controls, 130 columns (same as before)\n",
    "    <li> Data_v9.csv (all slices: for a patient with n1/1/n2 slices in the 3 experiments, we create n1*n2 lines in this csv): 563 lines for PD + 639 lines for Controls.\n",
    "    <li> Data_v10.csv (all slices: for a patient with n1 slices in the 1st experiment, we create n1 lines in this csv): only the first experiment but with all slices. 308 in total, \n",
    "</ul></p> "
   ]
  },
  {
   "cell_type": "code",
   "execution_count": 3,
   "metadata": {},
   "outputs": [],
   "source": [
    "table7 = pd.read_csv(\"Data_v7.csv\", header=0, sep=\",\")\n",
    "table8 = pd.read_csv(\"Data_v8.csv\", header=0, sep=\",\")\n",
    "table9 = pd.read_csv(\"Data_v9.csv\", header=0, sep=\",\")\n",
    "table10 = pd.read_csv(\"Data_v10.csv\", header=0, sep=\",\")\n",
    "tables = {\"7\":table7,\"8\":table8,\"9\":table9,\"10\":table10}\n",
    "# The list od user IDs\n",
    "users = table7[\"Patient\"].to_list()"
   ]
  },
  {
   "cell_type": "markdown",
   "metadata": {},
   "source": [
    "In another notebook, we have selected two equally sized sets of alternating positive and negative examples that we are going to use for plotting the error with increasing sample size."
   ]
  },
  {
   "cell_type": "code",
   "execution_count": 4,
   "metadata": {},
   "outputs": [],
   "source": [
    "train_index, test_index, test_set, train_set = readTrainSets(\"train_sets.txt\")"
   ]
  },
  {
   "cell_type": "markdown",
   "metadata": {},
   "source": [
    "We show them here, for the reference:"
   ]
  },
  {
   "cell_type": "code",
   "execution_count": 5,
   "metadata": {},
   "outputs": [],
   "source": [
    "train_index = [23, 67, 32, 17, 25, 70, 45, 1, 42, 66, 55, 65, 54, 68, 40, 12, 38, 4, 37, 9, 33, 8, 36, 71, 34, 16, 49, \n",
    "               14, 48, 2, 43, 3, 39, 75, 56, 64, 47, 28]\n",
    "test_index = [21, 63, 57, 0, 44, 6, 50, 15, 52, 62, 27, 18, 53, 72, 20, 76, 41, 60, 51, 10, 58, 5, 24, 11, 19, 69, 31, \n",
    "              7, 26, 61, 59, 73, 30, 74, 29, 13, 46, 35]"
   ]
  },
  {
   "cell_type": "markdown",
   "metadata": {},
   "source": [
    "We have also randmoly selected a train_set and a test_set of 65\\% and 35\\% of the population (55 examples and 22 examples, respectively), to be used for reporting overall test and train errors. These sets have a similar proportion of positive examples."
   ]
  },
  {
   "cell_type": "code",
   "execution_count": 6,
   "metadata": {},
   "outputs": [],
   "source": [
    "test_set = [3, 55, 24, 31, 29, 53, 30, 9, 25, 75, 49, 56, 44, 41, 36, 6, 60, 23, 54, 57, 63, 47, 20, 26, 2, 38, 61]\n",
    "train_set = [0, 1, 4, 5, 7, 8, 10, 11, 12, 13, 14, 15, 16, 17, 18, 19, 21, 22, 27, 28, 32, 33, 34, 35, 37, 39, \n",
    "             40, 42, 43, 45, 46, 48, 50, 51, 52, 58, 59, 62, 64, 65, 66, 67, 68, 69, 70, 71, 72, 73, 74, 76]"
   ]
  },
  {
   "cell_type": "markdown",
   "metadata": {},
   "source": [
    "<h3 align=\"center\">Working with the original data</h3>"
   ]
  },
  {
   "cell_type": "code",
   "execution_count": 28,
   "metadata": {},
   "outputs": [],
   "source": [
    "# Set regularization parameter\n",
    "reg = False\n",
    "filename = \"Data_v7_\""
   ]
  },
  {
   "cell_type": "code",
   "execution_count": 29,
   "metadata": {},
   "outputs": [],
   "source": [
    "filename += \"reg_\" if reg else \"\"\n",
    "x_range = range(2,min(len(train_index),len(test_index))+1) "
   ]
  },
  {
   "cell_type": "markdown",
   "metadata": {},
   "source": [
    "<h3>This is where the loop starts</h3>"
   ]
  },
  {
   "cell_type": "code",
   "execution_count": 42,
   "metadata": {},
   "outputs": [],
   "source": [
    "m = re.search('_v(\\d{1,2})_',filename)\n",
    "table = tables[m.group(1)]\n",
    "if \"selected\" not in filename:\n",
    "    data,labels = dataFromTable(table)"
   ]
  },
  {
   "cell_type": "code",
   "execution_count": 43,
   "metadata": {},
   "outputs": [
    {
     "data": {
      "image/png": "[encoded data removed]",
      "text/plain": [
       "<Figure size 432x288 with 1 Axes>"
      ]
     },
     "metadata": {
      "needs_background": "light"
     },
     "output_type": "display_data"
    }
   ],
   "source": [
    "# Get the error rates for increasing training/test size\n",
    "models = [\"SVM\",\"LR\",\"NN\",\"kNN\",\"DT\",\"RF\"]\n",
    "colors = [\"b\",\"g\",\"r\",\"c\",\"m\",\"y\"]\n",
    "indexes = []\n",
    "for n_samples in x_range:   \n",
    "    train_x,test_x = data[np.array(train_index[:n_samples])],data[np.array(test_index[:n_samples])]\n",
    "    train_y,test_y = labels[np.array(train_index[:n_samples])],labels[np.array(test_index[:n_samples])]\n",
    "    indexes.append((np.array(train_index[:n_samples]),np.array(test_index[:n_samples])))\n",
    "errorRatesInc = errors(models,data,labels,indexes,reg)\n",
    "j=0 # j=0 for png and j=1 for svg format\n",
    "for i in range(len(models)):\n",
    "    plt.clf()\n",
    "    plt.axis([0, x_range.stop, -0.05, 1])\n",
    "    plt.title(\"Model: %s\"%models[i])\n",
    "    plt.plot(x_range,list(errorRatesInc[:,2*i]),c=colors[i], linestyle='dotted',linewidth=3, label=\"Train error\")\n",
    "    plt.plot(x_range,list(errorRatesInc[:,2*i+1]),c=colors[i],linestyle='solid',linewidth=3, label=\"Test error\")\n",
    "    plt.legend(loc='best')\n",
    "    plt.xlabel(\"Number of examples in the dataset\")\n",
    "    plt.ylabel(\"Error rates\")\n",
    "    plt.savefig(filename + \"%s.%s\"%(models[i],formaT[j]), dpi = 400, format = formaT[j])"
   ]
  },
  {
   "cell_type": "code",
   "execution_count": 44,
   "metadata": {},
   "outputs": [
    {
     "name": "stdout",
     "output_type": "stream",
     "text": [
      "    SVM           LR           NN           kNN           DT           RF\n",
      "train  test   train  test   train  test   train  test   train  test   train  test   \n",
      "0.184  0.330  0.199  0.279  0.112  0.293  0.000  0.388  0.000  0.310  0.000  0.314\n"
     ]
    }
   ],
   "source": [
    "# Get the error rates for Leave One Out cross validation\n",
    "models = [\"SVM\",\"LR\",\"NN\",\"kNN\",\"DT\",\"RF\"]\n",
    "#models = [\"LR\"]\n",
    "indexes = []\n",
    "for user in users:\n",
    "    train = np.array(table.index[table['Patient'] != user].tolist())\n",
    "    test = np.array(table.index[table['Patient'] == user].tolist())  \n",
    "    indexes.append((train,test))\n",
    "errorRatesLOO = errors(models,data,labels,indexes,reg)\n",
    "print(\"    \" + \"           \".join(models))\n",
    "print(\"train  test   \"*6)\n",
    "print(\"  \".join([\"%.3f\"%e for e in np.sum(errorRatesLOO,axis=0)/len(errorRatesLOO)]))"
   ]
  },
  {
   "cell_type": "code",
   "execution_count": 45,
   "metadata": {},
   "outputs": [
    {
     "name": "stdout",
     "output_type": "stream",
     "text": [
      "    SVM           LR           NN           kNN           DT           RF\n",
      "train  test   train  test   train  test   train  test   train  test   train  test   \n",
      "0.144  0.299  0.164  0.290  0.478  0.551  0.000  0.393  0.000  0.346  0.000  0.299\n"
     ]
    }
   ],
   "source": [
    "# Get the error rates for train_set and test_set\n",
    "models = [\"SVM\",\"LR\",\"NN\",\"kNN\",\"DT\",\"RF\"]\n",
    "indexes = [(np.array(train_set),np.array(test_set))]\n",
    "errorRatesTrainTest = errors(models,data,labels,indexes,reg)\n",
    "print(\"    \" + \"           \".join(models))\n",
    "print(\"train  test   \"*6)\n",
    "print(\"  \".join([\"%.3f\"%e for e in np.sum(errorRatesTrainTest,axis=0)/len(errorRatesTrainTest)]))"
   ]
  },
  {
   "cell_type": "markdown",
   "metadata": {},
   "source": [
    "<h3>This is where the loop ends</h3>"
   ]
  },
  {
   "cell_type": "markdown",
   "metadata": {},
   "source": [
    "<h1> 1. Feature selection </h1>"
   ]
  },
  {
   "cell_type": "code",
   "execution_count": 14,
   "metadata": {},
   "outputs": [
    {
     "name": "stdout",
     "output_type": "stream",
     "text": [
      "['Speed1', 'StepLengthMean1', 'StepTimeMean1', 'StepTimeStd1', 'StepTimeVariability1', 'StepTimeAsymmetry1', 'StrideTimeMean1', 'StrideTimeStd1', 'StrideTimeVariability1', 'HipAmplMean1', 'HipAmplStd1', 'HipAmplVariability1', 'HipAmplAsymmetry1', 'AND_StepTimeMean1', 'NAD_StepTimeMean1', 'AND_StepTimeVariability1', 'NAD_StepTimeVariability1', 'AND_HipAmplMean1', 'NAD_HipAmplMean1', 'AND_HipAmplVariability1', 'NAD_HipAmplVariability1', 'AND_ArmAmplMean1', 'NAD_ArmAmplMean1', 'AND_ArmAmplVariability1', 'NAD_ArmAmplVariability1', 'AND_ArmJerk1', 'NAD_ArmJerk1', 'AND_ElbowAmplMean1', 'NAD_ElbowAmplMean1', 'AND_ElbowAmplVariability1', 'NAD_ElbowAmplVariability1', 'ArmAmplMean1', 'ArmAmplStd1', 'ArmAmplVariability1', 'ArmAmplAsymmetry1', 'ElbowAmplMean1', 'ElbowAmplStd1', 'ElbowAmplVariability1', 'ElbowAmplAsymmetry1', 'TrunkRotationAmplitude1', 'TrunkRotationAsymmetry1', 'TrunkJerk1']\n"
     ]
    }
   ],
   "source": [
    "# Select attributes\n",
    "cols = table7.columns.to_list()[3:45]\n",
    "print(cols)"
   ]
  },
  {
   "cell_type": "markdown",
   "metadata": {},
   "source": [
    "- PD patients and controls showed differences in speed, stride/step length and arm swing amplitude, variability and asymmetry in all three tasks."
   ]
  },
  {
   "cell_type": "code",
   "execution_count": 15,
   "metadata": {},
   "outputs": [],
   "source": [
    "selected_cols1 = cols[:2]+cols[31:32]+cols[33:35]\n",
    "select = [name.replace(\"1\",str(exp))  for exp in range(1,4) for name in selected_cols1]"
   ]
  },
  {
   "cell_type": "markdown",
   "metadata": {},
   "source": [
    "- Also, in fast walking and dual task situation, PD patients showed greater step and stride time"
   ]
  },
  {
   "cell_type": "code",
   "execution_count": 16,
   "metadata": {},
   "outputs": [],
   "source": [
    "selected_cols2 = cols[2:3]+cols[6:7]\n",
    "select += [name.replace(\"1\",str(exp))  for exp in range(2,4) for name in selected_cols2]"
   ]
  },
  {
   "cell_type": "code",
   "execution_count": 17,
   "metadata": {},
   "outputs": [
    {
     "name": "stdout",
     "output_type": "stream",
     "text": [
      "Speed1 StepLengthMean1 ArmAmplMean1 ArmAmplVariability1 ArmAmplAsymmetry1 Speed2 StepLengthMean2 ArmAmplMean2 ArmAmplVariability2 ArmAmplAsymmetry2 Speed3 StepLengthMean3 ArmAmplMean3 ArmAmplVariability3 ArmAmplAsymmetry3 StepTimeMean2 StrideTimeMean2 StepTimeMean3 StrideTimeMean3\n"
     ]
    }
   ],
   "source": [
    "print(\" \".join(select))"
   ]
  },
  {
   "cell_type": "code",
   "execution_count": 18,
   "metadata": {},
   "outputs": [
    {
     "data": {
      "text/plain": [
       "array([  3,   4,  34,  36,  37,  45,  46,  76,  78,  79,  87,  88, 118,\n",
       "       120, 121,  47,  51,  89,  93], dtype=int64)"
      ]
     },
     "execution_count": 18,
     "metadata": {},
     "output_type": "execute_result"
    }
   ],
   "source": [
    "# Get index of selected colums in the original table\n",
    "table7.columns.get_indexer(select)"
   ]
  },
  {
   "cell_type": "code",
   "execution_count": 19,
   "metadata": {},
   "outputs": [
    {
     "data": {
      "text/plain": [
       "array([  0,   1,  31,  33,  34,  42,  43,  73,  75,  76,  84,  85, 115,\n",
       "       117, 118,  44,  48,  86,  90], dtype=int64)"
      ]
     },
     "execution_count": 19,
     "metadata": {},
     "output_type": "execute_result"
    }
   ],
   "source": [
    "# Since data eliminates the first three columns, we have to substract 3 from all these elements\n",
    "select_indexes = table7.columns.get_indexer(select)-3\n",
    "select_indexes"
   ]
  },
  {
   "cell_type": "code",
   "execution_count": 20,
   "metadata": {},
   "outputs": [],
   "source": [
    "select_data = data[:,select_indexes]"
   ]
  },
  {
   "cell_type": "code",
   "execution_count": 21,
   "metadata": {},
   "outputs": [
    {
     "data": {
      "text/plain": [
       "(77, 19)"
      ]
     },
     "execution_count": 21,
     "metadata": {},
     "output_type": "execute_result"
    }
   ],
   "source": [
    "select_data.shape"
   ]
  },
  {
   "cell_type": "code",
   "execution_count": 22,
   "metadata": {},
   "outputs": [],
   "source": [
    "assert(select_data.shape == (77,19))"
   ]
  },
  {
   "cell_type": "code",
   "execution_count": 23,
   "metadata": {},
   "outputs": [],
   "source": [
    "reg, filename, data = False, \"Data_v7_selected_\", select_data\n",
    "x_range = range(2,min(len(train_index),len(test_index))+1) "
   ]
  },
  {
   "cell_type": "markdown",
   "metadata": {},
   "source": [
    "<h3>TO DO: Repeat the loop with the new data</h3>"
   ]
  },
  {
   "cell_type": "markdown",
   "metadata": {},
   "source": [
    "<h1> 2. Introduce regularization </h1>"
   ]
  },
  {
   "cell_type": "markdown",
   "metadata": {},
   "source": [
    "In a separate notebook, we have chosen the best regularization parameters by applying \n",
    "5-fold cross-validation on the training set. "
   ]
  },
  {
   "cell_type": "markdown",
   "metadata": {},
   "source": [
    "The best parameters were:\n",
    "- SVM: (C = 0.01, penalty = 'l2')\n",
    "- LR: (solver = 'liblinear', C = 0.1, penalty = 'l1')\n",
    "- NN: (alpha = 10, penalty = 'l2')"
   ]
  },
  {
   "cell_type": "markdown",
   "metadata": {},
   "source": [
    "<h3>TO DO: Repeat from \"Working with original data\" and set regularization parameter to \"True\"</h3>"
   ]
  },
  {
   "cell_type": "markdown",
   "metadata": {},
   "source": [
    "<h1> 3. Increase size of dataset</h1>"
   ]
  },
  {
   "cell_type": "markdown",
   "metadata": {},
   "source": [
    "<h2> First idea</h2>"
   ]
  },
  {
   "cell_type": "code",
   "execution_count": 34,
   "metadata": {},
   "outputs": [],
   "source": [
    "filename = \"Data_v9_\"\n",
    "x_range = range(17,min(len(train_index),len(test_index))+1)\n",
    "m = re.search('_v(\\d{1,2})_',filename)\n",
    "table = tables[m.group(1)]"
   ]
  },
  {
   "cell_type": "markdown",
   "metadata": {},
   "source": [
    "We have to define new train_index and test_index and train_set and test_set based on the bigger dataset"
   ]
  },
  {
   "cell_type": "code",
   "execution_count": 35,
   "metadata": {},
   "outputs": [],
   "source": [
    "train_index, test_index, test_set, train_set = readTrainSets(\"train_sets.txt\")\n",
    "train_index,test_index = amplifyIndex(train_index,test_index,users,table)\n",
    "train_set,test_set = amplifyIndex(train_set,test_set,users,table)"
   ]
  },
  {
   "cell_type": "markdown",
   "metadata": {},
   "source": [
    "<h3>TO DO: Repeat the loop with the new data</h3> "
   ]
  },
  {
   "cell_type": "markdown",
   "metadata": {},
   "source": [
    "<h2> Second idea </h2>"
   ]
  },
  {
   "cell_type": "code",
   "execution_count": 40,
   "metadata": {},
   "outputs": [],
   "source": [
    "filename = \"Data_v10_\"\n",
    "x_range = range(5,min(len(train_index),len(test_index))+1)\n",
    "m = re.search('_v(\\d{1,2})_',filename)\n",
    "table = tables[m.group(1)]"
   ]
  },
  {
   "cell_type": "markdown",
   "metadata": {},
   "source": [
    "We have to define new train_index and test_index and train_set and test_set based on the bigger dataset"
   ]
  },
  {
   "cell_type": "code",
   "execution_count": 41,
   "metadata": {},
   "outputs": [],
   "source": [
    "train_index, test_index, test_set, train_set = readTrainSets(\"train_sets.txt\")\n",
    "train_index,test_index = amplifyIndex(train_index,test_index,users,table10)\n",
    "train_set,test_set = amplifyIndex(train_set,test_set,users,table10)"
   ]
  },
  {
   "cell_type": "markdown",
   "metadata": {},
   "source": [
    "<h3>TO DO: Repeat the loop with the new data</h3> "
   ]
  },
  {
   "cell_type": "markdown",
   "metadata": {},
   "source": [
    "<h1>4. Print statistics for the best model<h1>"
   ]
  },
  {
   "cell_type": "code",
   "execution_count": 46,
   "metadata": {},
   "outputs": [],
   "source": [
    "filename = \"Data_v7_\"\n",
    "m = re.search('_v(\\d{1,2})_',filename)\n",
    "table = tables[m.group(1)]\n",
    "data,labels = dataFromTable(table)"
   ]
  },
  {
   "cell_type": "code",
   "execution_count": 47,
   "metadata": {},
   "outputs": [],
   "source": [
    "train_index, test_index, test_set, train_set = readTrainSets(\"train_sets.txt\")\n",
    "train_x, train_y, test_x, test_y = data[train_set], labels[train_set], data[test_set], labels[test_set]"
   ]
  },
  {
   "cell_type": "code",
   "execution_count": 48,
   "metadata": {},
   "outputs": [],
   "source": [
    "model = LogisticRegression(C=0.1, penalty='l1', solver='liblinear') \n",
    "#model = tree.DecisionTreeClassifier(max_depth=1)\n",
    "#model = RandomForestClassifier(max_depth=1, max_features=None)   \n",
    "#model = MLPClassifier(alpha=33, early_stopping=True, hidden_layer_sizes=(50,),learning_rate='adaptive', n_iter_no_change=20000)"
   ]
  },
  {
   "cell_type": "code",
   "execution_count": 49,
   "metadata": {},
   "outputs": [
    {
     "data": {
      "text/plain": [
       "LogisticRegression(C=0.1, penalty='l1', solver='liblinear')"
      ]
     },
     "execution_count": 49,
     "metadata": {},
     "output_type": "execute_result"
    }
   ],
   "source": [
    "model.fit(train_x,train_y)"
   ]
  },
  {
   "cell_type": "code",
   "execution_count": 50,
   "metadata": {},
   "outputs": [],
   "source": [
    "# Compute metrics\n",
    "from math import sqrt\n",
    "from sklearn import metrics\n",
    "from sklearn.metrics import accuracy_score\n",
    "toprint = \"\"\n",
    "predictions = model.predict_proba(test_x)[:,1]\n",
    "pred_int = np.squeeze(np.rint(predictions)).astype(int)\n",
    "pred_train  = model.predict_proba(train_x)[:,1]\n",
    "pred_int_train = np.squeeze(np.rint(pred_train)).astype(int)\n",
    "accuracy = metrics.accuracy_score(labels[test_set],pred_int)\n",
    "conf_matrix = list(zip(labels[test_set], pred_int))\n",
    "auc = metrics.roc_auc_score(labels[test_set],predictions)\n",
    "toprint += \"Training sample size %s\\n\"%len(train_set)\n",
    "toprint += \"Test sample size %s\\n\"%len(test_set)\n",
    "toprint += \"Number of positive examples in test %s\\n\"%np.sum(labels[test_set])\n",
    "toprint += \"Train accuracy %.3f\\n\"%accuracy_score(labels[train_set],pred_int_train)\n",
    "toprint += \"Test accuracy %.3f\\n\"%accuracy\n",
    "toprint += \"AUC %.3f\\n\"%auc\n",
    "sen = conf_matrix.count((1,1))/np.sum(labels[test_set])\n",
    "toprint += \"Sensitivity/recall %.2f\\n\"%sen\n",
    "spec = conf_matrix.count((0,0))/list(labels[test_set]).count(0)\n",
    "toprint += \"Specificity %.2f\\n\"%spec\n",
    "prec = conf_matrix.count((1,1))/np.sum(pred_int)\n",
    "toprint += \"Precision %.2f\\n\"%prec\n",
    "    #We can calculate the 95% confidence interval (z = 1.96) as follows: \n",
    "    #https://machinelearningmastery.com/confidence-intervals-for-machine-learning/\n",
    "error = 1 - accuracy\n",
    "interval = 1.96 * sqrt(error * accuracy / len(test_set))\n",
    "toprint +=\"95-confidence interval %.3f\\n\" % interval"
   ]
  },
  {
   "cell_type": "code",
   "execution_count": 51,
   "metadata": {},
   "outputs": [
    {
     "name": "stdout",
     "output_type": "stream",
     "text": [
      "Training sample size 50\n",
      "Test sample size 27\n",
      "Number of positive examples in test 14\n",
      "Train accuracy 0.800\n",
      "Test accuracy 0.815\n",
      "AUC 0.879\n",
      "Sensitivity/recall 0.71\n",
      "Specificity 0.92\n",
      "Precision 0.91\n",
      "95-confidence interval 0.147\n",
      "\n"
     ]
    }
   ],
   "source": [
    "print(toprint)"
   ]
  },
  {
   "cell_type": "code",
   "execution_count": 52,
   "metadata": {},
   "outputs": [
    {
     "data": {
      "text/plain": [
       "4"
      ]
     },
     "execution_count": 52,
     "metadata": {},
     "output_type": "execute_result"
    }
   ],
   "source": [
    "conf_matrix.count((1,0))"
   ]
  },
  {
   "cell_type": "code",
   "execution_count": 53,
   "metadata": {},
   "outputs": [
    {
     "data": {
      "text/plain": [
       "<sklearn.metrics._plot.roc_curve.RocCurveDisplay at 0x18f41552730>"
      ]
     },
     "execution_count": 53,
     "metadata": {},
     "output_type": "execute_result"
    },
    {
     "data": {
      "image/png": "[encoded data removed]",
      "text/plain": [
       "<Figure size 432x288 with 1 Axes>"
      ]
     },
     "metadata": {
      "needs_background": "light"
     },
     "output_type": "display_data"
    }
   ],
   "source": [
    "j=0\n",
    "metrics.plot_roc_curve(model, test_x, test_y) \n",
    "#plt.savefig(\"ROC.%s\"%formasT[j], dpi = 400, format = formasT[j])"
   ]
  },
  {
   "cell_type": "code",
   "execution_count": null,
   "metadata": {},
   "outputs": [],
   "source": []
  }
 ],
 "metadata": {
  "colab": {
   "collapsed_sections": [],
   "name": "data_analysis.ipynb",
   "provenance": [],
   "toc_visible": true
  },
  "kernelspec": {
   "display_name": "Python 3",
   "language": "python",
   "name": "python3"
  },
  "language_info": {
   "codemirror_mode": {
    "name": "ipython",
    "version": 3
   },
   "file_extension": ".py",
   "mimetype": "text/x-python",
   "name": "python",
   "nbconvert_exporter": "python",
   "pygments_lexer": "ipython3",
   "version": "3.8.10"
  }
 },
 "nbformat": 4,
 "nbformat_minor": 1
}
